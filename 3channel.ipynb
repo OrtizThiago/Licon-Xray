{
 "cells": [
  {
   "cell_type": "markdown",
   "metadata": {},
   "source": [
    "# Code to add the second and third channels to the image"
   ]
  },
  {
   "cell_type": "markdown",
   "metadata": {},
   "source": [
    "## Install the pillow library"
   ]
  },
  {
   "cell_type": "markdown",
   "metadata": {},
   "source": [
    "!pip install pillow"
   ]
  },
  {
   "cell_type": "markdown",
   "metadata": {},
   "source": [
    "## Import the Libraries"
   ]
  },
  {
   "cell_type": "code",
   "execution_count": 6,
   "metadata": {},
   "outputs": [],
   "source": [
    "import numpy as np\n",
    "from PIL import Image, ImageChops\n",
    "import os"
   ]
  },
  {
   "cell_type": "markdown",
   "metadata": {},
   "source": [
    "## Define the source path and the saving path"
   ]
  },
  {
   "cell_type": "code",
   "execution_count": 4,
   "metadata": {},
   "outputs": [],
   "source": [
    "sourcePath = r'C:\\..\\imagesSource'\n",
    "savePath   = r'C:\\..\\imagesSave'"
   ]
  },
  {
   "cell_type": "markdown",
   "metadata": {},
   "source": [
    "## Adding the channels"
   ]
  },
  {
   "cell_type": "code",
   "execution_count": null,
   "metadata": {},
   "outputs": [],
   "source": [
    "#you will need an error handling array\n",
    "errorlist = []\n",
    "\n",
    "for filename in os.listdir(sourcePath):                           #iterates over the files in the directory\n",
    "    img = Image.open(os.path.join(directorySource, filename))     #loads the image\n",
    "    R = np.stack((img, img, img), axis=2)                         #Adds the second and the third channels\n",
    "    \n",
    "    if R.ndim == 3:                                               #Checks if the generated image has three channels\n",
    "        out_img = Image.fromarray(R)                              #Converts the R (numpy) to out_image (pillow image)\n",
    "        out_img.save(os.path.join(directorySave, filename))       #Saves the image in the saving path\n",
    "    else:\n",
    "        errorlist.append(filename)                                #appends the filename with error to the error list"
   ]
  },
  {
   "cell_type": "markdown",
   "metadata": {},
   "source": [
    "## Cutting and resizing the images"
   ]
  },
  {
   "cell_type": "code",
   "execution_count": 7,
   "metadata": {},
   "outputs": [],
   "source": [
    "#you can use the routine above to iterate over the images from a determinated path\n",
    "img = Image.open(r'D:\\Downloads\\NIH\\images-224\\images-224\\00000005_000.png')     #loads the image\n",
    "img.crop((left, upper, right, lower))                                            #Crops the image to the specified coordinates\n",
    "img.resize((x,y,z))                                                              #Resizes the image to the specified size\n",
    "\n",
    "#Here I don't know the criteria to cut and resize, which one need to be done first or in what proportion"
   ]
  }
 ],
 "metadata": {
  "kernelspec": {
   "display_name": "Python 3",
   "language": "python",
   "name": "python3"
  },
  "language_info": {
   "codemirror_mode": {
    "name": "ipython",
    "version": 3
   },
   "file_extension": ".py",
   "mimetype": "text/x-python",
   "name": "python",
   "nbconvert_exporter": "python",
   "pygments_lexer": "ipython3",
   "version": "3.7.7"
  }
 },
 "nbformat": 4,
 "nbformat_minor": 4
}
