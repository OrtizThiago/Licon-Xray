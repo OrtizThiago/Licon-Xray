{
 "cells": [
  {
   "cell_type": "code",
   "execution_count": 6,
   "metadata": {},
   "outputs": [],
   "source": [
    "import tensorflow as tf\n",
    "import numpy as np\n",
    "import pandas as pd\n",
    "import matplotlib.pyplot as plt\n",
    "import os\n",
    "from glob import glob\n",
    "import matplotlib.pyplot as plt"
   ]
  },
  {
   "cell_type": "code",
   "execution_count": 131,
   "metadata": {},
   "outputs": [],
   "source": [
    "NIH_csv_path        = r'D:\\Downloads\\C19\\Data_Entry_2017_v2020.csv'\n",
    "HMH_csv_path        = r'D:\\Downloads\\C19\\csv\\20_07_2020\\CDSL_01.csv'\n",
    "HMH_master_csv_path = r'D:\\Downloads\\C19\\csv\\master.csv'\n",
    "base_dir = os.path.abspath(r'D:\\Downloads\\C19\\3channel\\All')"
   ]
  },
  {
   "cell_type": "code",
   "execution_count": 132,
   "metadata": {},
   "outputs": [
    {
     "data": {
      "text/html": [
       "<div>\n",
       "<style scoped>\n",
       "    .dataframe tbody tr th:only-of-type {\n",
       "        vertical-align: middle;\n",
       "    }\n",
       "\n",
       "    .dataframe tbody tr th {\n",
       "        vertical-align: top;\n",
       "    }\n",
       "\n",
       "    .dataframe thead th {\n",
       "        text-align: right;\n",
       "    }\n",
       "</style>\n",
       "<table border=\"1\" class=\"dataframe\">\n",
       "  <thead>\n",
       "    <tr style=\"text-align: right;\">\n",
       "      <th></th>\n",
       "      <th>Image Index</th>\n",
       "      <th>Finding Labels</th>\n",
       "      <th>Follow-up #</th>\n",
       "      <th>Patient ID</th>\n",
       "      <th>Patient Age</th>\n",
       "      <th>Patient Gender</th>\n",
       "      <th>View Position</th>\n",
       "      <th>OriginalImage[Width</th>\n",
       "      <th>Height]</th>\n",
       "      <th>OriginalImagePixelSpacing[x</th>\n",
       "      <th>y]</th>\n",
       "    </tr>\n",
       "  </thead>\n",
       "  <tbody>\n",
       "    <tr>\n",
       "      <th>0</th>\n",
       "      <td>00000001_000.png</td>\n",
       "      <td>Cardiomegaly</td>\n",
       "      <td>0</td>\n",
       "      <td>1</td>\n",
       "      <td>57</td>\n",
       "      <td>M</td>\n",
       "      <td>PA</td>\n",
       "      <td>2682</td>\n",
       "      <td>2749</td>\n",
       "      <td>0.143</td>\n",
       "      <td>0.143</td>\n",
       "    </tr>\n",
       "  </tbody>\n",
       "</table>\n",
       "</div>"
      ],
      "text/plain": [
       "        Image Index Finding Labels  Follow-up #  Patient ID  Patient Age  \\\n",
       "0  00000001_000.png   Cardiomegaly            0           1           57   \n",
       "\n",
       "  Patient Gender View Position  OriginalImage[Width  Height]  \\\n",
       "0              M            PA                 2682     2749   \n",
       "\n",
       "   OriginalImagePixelSpacing[x     y]  \n",
       "0                        0.143  0.143  "
      ]
     },
     "execution_count": 132,
     "metadata": {},
     "output_type": "execute_result"
    }
   ],
   "source": [
    "NIH_df = pd.read_csv(NIH_csv_path)\n",
    "NIH_df.head(1)"
   ]
  },
  {
   "cell_type": "code",
   "execution_count": 88,
   "metadata": {},
   "outputs": [
    {
     "data": {
      "text/html": [
       "<div>\n",
       "<style scoped>\n",
       "    .dataframe tbody tr th:only-of-type {\n",
       "        vertical-align: middle;\n",
       "    }\n",
       "\n",
       "    .dataframe tbody tr th {\n",
       "        vertical-align: top;\n",
       "    }\n",
       "\n",
       "    .dataframe thead th {\n",
       "        text-align: right;\n",
       "    }\n",
       "</style>\n",
       "<table border=\"1\" class=\"dataframe\">\n",
       "  <thead>\n",
       "    <tr style=\"text-align: right;\">\n",
       "      <th></th>\n",
       "      <th>PATIENT ID</th>\n",
       "      <th>EDAD/AGE</th>\n",
       "      <th>SEXO/SEX</th>\n",
       "      <th>DIAG ING/INPAT</th>\n",
       "      <th>F_INGRESO/ADMISSION_D_ING/INPAT</th>\n",
       "      <th>F_ENTRADA_UC/ICU_DATE_IN</th>\n",
       "      <th>F_SALIDA_UCI/ICU_DATE_OUT</th>\n",
       "      <th>UCI_DIAS/ICU_DAYS</th>\n",
       "      <th>RESPIRADOR/MECH.VENT.</th>\n",
       "      <th>F_ALTA/DISCHARGE_DATE_ING</th>\n",
       "      <th>...</th>\n",
       "      <th>SAT_02_PRIMERA/FIRST_URG/EMERG</th>\n",
       "      <th>TA_MAX_PRIMERA/FIRST/EMERG_URG</th>\n",
       "      <th>TA_MIN_PRIMERA/FIRST_URG/EMERG</th>\n",
       "      <th>HORA/TIME_CONSTANT_ULTIMA/LAST_URG/EMERG</th>\n",
       "      <th>FC/HR_ULTIMA/LAST_URG/EMERG</th>\n",
       "      <th>TEMP_ULTIMA/LAST_URG/EMERG</th>\n",
       "      <th>GLU_ULTIMA/LAST_URG/EMERG</th>\n",
       "      <th>SAT_02_ULTIMA/LAST_URG/EMERG</th>\n",
       "      <th>TA_MAX_ULTIMA/LAST_URGEMERG</th>\n",
       "      <th>TA_MIN_ULTIMA/LAST_URG/EMERG</th>\n",
       "    </tr>\n",
       "  </thead>\n",
       "  <tbody>\n",
       "    <tr>\n",
       "      <th>0</th>\n",
       "      <td>1</td>\n",
       "      <td>85</td>\n",
       "      <td>MALE</td>\n",
       "      <td>COVID CONFIRMADO</td>\n",
       "      <td>2020-04-06</td>\n",
       "      <td>NaN</td>\n",
       "      <td>NaN</td>\n",
       "      <td>NaN</td>\n",
       "      <td>SI</td>\n",
       "      <td>2020-04-11</td>\n",
       "      <td>...</td>\n",
       "      <td>95</td>\n",
       "      <td>147</td>\n",
       "      <td>68</td>\n",
       "      <td>1899-12-30 19:12:00</td>\n",
       "      <td>67</td>\n",
       "      <td>36.099998</td>\n",
       "      <td>0</td>\n",
       "      <td>95</td>\n",
       "      <td>147</td>\n",
       "      <td>68</td>\n",
       "    </tr>\n",
       "  </tbody>\n",
       "</table>\n",
       "<p>1 rows × 30 columns</p>\n",
       "</div>"
      ],
      "text/plain": [
       "   PATIENT ID  EDAD/AGE SEXO/SEX    DIAG ING/INPAT  \\\n",
       "0           1        85     MALE  COVID CONFIRMADO   \n",
       "\n",
       "  F_INGRESO/ADMISSION_D_ING/INPAT F_ENTRADA_UC/ICU_DATE_IN  \\\n",
       "0                      2020-04-06                      NaN   \n",
       "\n",
       "  F_SALIDA_UCI/ICU_DATE_OUT  UCI_DIAS/ICU_DAYS RESPIRADOR/MECH.VENT.  \\\n",
       "0                       NaN                NaN                    SI   \n",
       "\n",
       "  F_ALTA/DISCHARGE_DATE_ING  ... SAT_02_PRIMERA/FIRST_URG/EMERG  \\\n",
       "0                2020-04-11  ...                             95   \n",
       "\n",
       "  TA_MAX_PRIMERA/FIRST/EMERG_URG TA_MIN_PRIMERA/FIRST_URG/EMERG  \\\n",
       "0                            147                             68   \n",
       "\n",
       "  HORA/TIME_CONSTANT_ULTIMA/LAST_URG/EMERG FC/HR_ULTIMA/LAST_URG/EMERG  \\\n",
       "0                      1899-12-30 19:12:00                          67   \n",
       "\n",
       "  TEMP_ULTIMA/LAST_URG/EMERG GLU_ULTIMA/LAST_URG/EMERG  \\\n",
       "0                  36.099998                         0   \n",
       "\n",
       "   SAT_02_ULTIMA/LAST_URG/EMERG  TA_MAX_ULTIMA/LAST_URGEMERG  \\\n",
       "0                            95                          147   \n",
       "\n",
       "   TA_MIN_ULTIMA/LAST_URG/EMERG  \n",
       "0                            68  \n",
       "\n",
       "[1 rows x 30 columns]"
      ]
     },
     "execution_count": 88,
     "metadata": {},
     "output_type": "execute_result"
    }
   ],
   "source": [
    "HMH_df = pd.read_csv(HMH_csv_path, sep=';')\n",
    "HMH_df.head(1)"
   ]
  },
  {
   "cell_type": "code",
   "execution_count": 89,
   "metadata": {},
   "outputs": [
    {
     "data": {
      "text/html": [
       "<div>\n",
       "<style scoped>\n",
       "    .dataframe tbody tr th:only-of-type {\n",
       "        vertical-align: middle;\n",
       "    }\n",
       "\n",
       "    .dataframe tbody tr th {\n",
       "        vertical-align: top;\n",
       "    }\n",
       "\n",
       "    .dataframe thead th {\n",
       "        text-align: right;\n",
       "    }\n",
       "</style>\n",
       "<table border=\"1\" class=\"dataframe\">\n",
       "  <thead>\n",
       "    <tr style=\"text-align: right;\">\n",
       "      <th></th>\n",
       "      <th>ID</th>\n",
       "      <th>Path</th>\n",
       "    </tr>\n",
       "  </thead>\n",
       "  <tbody>\n",
       "    <tr>\n",
       "      <th>0</th>\n",
       "      <td>1</td>\n",
       "      <td>1_1.png</td>\n",
       "    </tr>\n",
       "  </tbody>\n",
       "</table>\n",
       "</div>"
      ],
      "text/plain": [
       "   ID     Path\n",
       "0   1  1_1.png"
      ]
     },
     "execution_count": 89,
     "metadata": {},
     "output_type": "execute_result"
    }
   ],
   "source": [
    "HMH_master = pd.read_csv(HMH_master_csv_path)\n",
    "HMH_master.head(1)"
   ]
  },
  {
   "cell_type": "markdown",
   "metadata": {},
   "source": [
    "## Tratamento dos rótulos e agregação de datasets"
   ]
  },
  {
   "cell_type": "markdown",
   "metadata": {},
   "source": [
    "#### HmHospitales"
   ]
  },
  {
   "cell_type": "code",
   "execution_count": 91,
   "metadata": {},
   "outputs": [
    {
     "data": {
      "text/html": [
       "<div>\n",
       "<style scoped>\n",
       "    .dataframe tbody tr th:only-of-type {\n",
       "        vertical-align: middle;\n",
       "    }\n",
       "\n",
       "    .dataframe tbody tr th {\n",
       "        vertical-align: top;\n",
       "    }\n",
       "\n",
       "    .dataframe thead th {\n",
       "        text-align: right;\n",
       "    }\n",
       "</style>\n",
       "<table border=\"1\" class=\"dataframe\">\n",
       "  <thead>\n",
       "    <tr style=\"text-align: right;\">\n",
       "      <th></th>\n",
       "      <th>PATIENT ID</th>\n",
       "      <th>DIAG ING/INPAT</th>\n",
       "    </tr>\n",
       "  </thead>\n",
       "  <tbody>\n",
       "    <tr>\n",
       "      <th>0</th>\n",
       "      <td>1</td>\n",
       "      <td>COVID CONFIRMADO</td>\n",
       "    </tr>\n",
       "    <tr>\n",
       "      <th>6</th>\n",
       "      <td>7</td>\n",
       "      <td>COVID CONFIRMADO</td>\n",
       "    </tr>\n",
       "    <tr>\n",
       "      <th>7</th>\n",
       "      <td>8</td>\n",
       "      <td>COVID CONFIRMADO</td>\n",
       "    </tr>\n",
       "    <tr>\n",
       "      <th>8</th>\n",
       "      <td>9</td>\n",
       "      <td>COVID CONFIRMADO</td>\n",
       "    </tr>\n",
       "    <tr>\n",
       "      <th>9</th>\n",
       "      <td>10</td>\n",
       "      <td>COVID CONFIRMADO</td>\n",
       "    </tr>\n",
       "  </tbody>\n",
       "</table>\n",
       "</div>"
      ],
      "text/plain": [
       "   PATIENT ID    DIAG ING/INPAT\n",
       "0           1  COVID CONFIRMADO\n",
       "6           7  COVID CONFIRMADO\n",
       "7           8  COVID CONFIRMADO\n",
       "8           9  COVID CONFIRMADO\n",
       "9          10  COVID CONFIRMADO"
      ]
     },
     "execution_count": 91,
     "metadata": {},
     "output_type": "execute_result"
    }
   ],
   "source": [
    "HMH_df = HMH_df[['PATIENT ID','DIAG ING/INPAT']]\n",
    "HMH_df = HMH_df[HMH_df['DIAG ING/INPAT'] == 'COVID CONFIRMADO']\n",
    "HMH_df.head()"
   ]
  },
  {
   "cell_type": "code",
   "execution_count": 92,
   "metadata": {},
   "outputs": [],
   "source": [
    "c19_pos_id = HMH_df['PATIENT ID'].values"
   ]
  },
  {
   "cell_type": "code",
   "execution_count": 113,
   "metadata": {},
   "outputs": [],
   "source": [
    "HMH_diag = []\n",
    "for ID,name in zip(HMH_master['ID'],HMH_master['Path']):\n",
    "    if ID in c19_pos_id:\n",
    "        HMH_diag.append([ID,name])\n",
    "        "
   ]
  },
  {
   "cell_type": "code",
   "execution_count": 143,
   "metadata": {},
   "outputs": [
    {
     "data": {
      "text/html": [
       "<div>\n",
       "<style scoped>\n",
       "    .dataframe tbody tr th:only-of-type {\n",
       "        vertical-align: middle;\n",
       "    }\n",
       "\n",
       "    .dataframe tbody tr th {\n",
       "        vertical-align: top;\n",
       "    }\n",
       "\n",
       "    .dataframe thead th {\n",
       "        text-align: right;\n",
       "    }\n",
       "</style>\n",
       "<table border=\"1\" class=\"dataframe\">\n",
       "  <thead>\n",
       "    <tr style=\"text-align: right;\">\n",
       "      <th></th>\n",
       "      <th>ID</th>\n",
       "      <th>Image Index</th>\n",
       "      <th>Label</th>\n",
       "    </tr>\n",
       "  </thead>\n",
       "  <tbody>\n",
       "    <tr>\n",
       "      <th>0</th>\n",
       "      <td>1</td>\n",
       "      <td>1_1.png</td>\n",
       "      <td>C19</td>\n",
       "    </tr>\n",
       "  </tbody>\n",
       "</table>\n",
       "</div>"
      ],
      "text/plain": [
       "   ID Image Index Label\n",
       "0   1     1_1.png   C19"
      ]
     },
     "execution_count": 143,
     "metadata": {},
     "output_type": "execute_result"
    }
   ],
   "source": [
    "HMH_df = pd.DataFrame(HMH_diag, columns=['ID','Image Index'])\n",
    "HMH_df['Label'] = 'C19'\n",
    "HMH_df.head(1)"
   ]
  },
  {
   "cell_type": "markdown",
   "metadata": {},
   "source": [
    "#### NIH"
   ]
  },
  {
   "cell_type": "code",
   "execution_count": 133,
   "metadata": {},
   "outputs": [],
   "source": [
    "NIH_df = pd.DataFrame(NIH_df['Image Index'],columns=['Image Index'])\n",
    "NIH_df['Label'] = 'Normal'\n",
    "NIH_df.head(1)"
   ]
  },
  {
   "cell_type": "markdown",
   "metadata": {},
   "source": [
    "#### Agregação"
   ]
  },
  {
   "cell_type": "code",
   "execution_count": 145,
   "metadata": {},
   "outputs": [],
   "source": [
    "dataset_df = pd.concat((NIH_df,HMH_df[['Image Index', 'Label']]),axis=0)"
   ]
  },
  {
   "cell_type": "code",
   "execution_count": 146,
   "metadata": {},
   "outputs": [
    {
     "data": {
      "text/html": [
       "<div>\n",
       "<style scoped>\n",
       "    .dataframe tbody tr th:only-of-type {\n",
       "        vertical-align: middle;\n",
       "    }\n",
       "\n",
       "    .dataframe tbody tr th {\n",
       "        vertical-align: top;\n",
       "    }\n",
       "\n",
       "    .dataframe thead th {\n",
       "        text-align: right;\n",
       "    }\n",
       "</style>\n",
       "<table border=\"1\" class=\"dataframe\">\n",
       "  <thead>\n",
       "    <tr style=\"text-align: right;\">\n",
       "      <th></th>\n",
       "      <th>Image Index</th>\n",
       "      <th>Label</th>\n",
       "    </tr>\n",
       "  </thead>\n",
       "  <tbody>\n",
       "    <tr>\n",
       "      <th>0</th>\n",
       "      <td>00000001_000.png</td>\n",
       "      <td>Normal</td>\n",
       "    </tr>\n",
       "    <tr>\n",
       "      <th>1</th>\n",
       "      <td>00000001_001.png</td>\n",
       "      <td>Normal</td>\n",
       "    </tr>\n",
       "    <tr>\n",
       "      <th>2</th>\n",
       "      <td>00000001_002.png</td>\n",
       "      <td>Normal</td>\n",
       "    </tr>\n",
       "    <tr>\n",
       "      <th>3</th>\n",
       "      <td>00000002_000.png</td>\n",
       "      <td>Normal</td>\n",
       "    </tr>\n",
       "    <tr>\n",
       "      <th>4</th>\n",
       "      <td>00000003_001.png</td>\n",
       "      <td>Normal</td>\n",
       "    </tr>\n",
       "    <tr>\n",
       "      <th>...</th>\n",
       "      <td>...</td>\n",
       "      <td>...</td>\n",
       "    </tr>\n",
       "    <tr>\n",
       "      <th>3959</th>\n",
       "      <td>994_2.png</td>\n",
       "      <td>C19</td>\n",
       "    </tr>\n",
       "    <tr>\n",
       "      <th>3960</th>\n",
       "      <td>994_3.png</td>\n",
       "      <td>C19</td>\n",
       "    </tr>\n",
       "    <tr>\n",
       "      <th>3961</th>\n",
       "      <td>996_1.png</td>\n",
       "      <td>C19</td>\n",
       "    </tr>\n",
       "    <tr>\n",
       "      <th>3962</th>\n",
       "      <td>996_2.png</td>\n",
       "      <td>C19</td>\n",
       "    </tr>\n",
       "    <tr>\n",
       "      <th>3963</th>\n",
       "      <td>999_1.png</td>\n",
       "      <td>C19</td>\n",
       "    </tr>\n",
       "  </tbody>\n",
       "</table>\n",
       "<p>116084 rows × 2 columns</p>\n",
       "</div>"
      ],
      "text/plain": [
       "           Image Index   Label\n",
       "0     00000001_000.png  Normal\n",
       "1     00000001_001.png  Normal\n",
       "2     00000001_002.png  Normal\n",
       "3     00000002_000.png  Normal\n",
       "4     00000003_001.png  Normal\n",
       "...                ...     ...\n",
       "3959         994_2.png     C19\n",
       "3960         994_3.png     C19\n",
       "3961         996_1.png     C19\n",
       "3962         996_2.png     C19\n",
       "3963         999_1.png     C19\n",
       "\n",
       "[116084 rows x 2 columns]"
      ]
     },
     "execution_count": 146,
     "metadata": {},
     "output_type": "execute_result"
    }
   ],
   "source": [
    "dataset_df"
   ]
  },
  {
   "cell_type": "code",
   "execution_count": 148,
   "metadata": {},
   "outputs": [],
   "source": [
    "dataset_df.to_csv(r'D:\\Downloads\\Git\\Licon-Xray\\dataset_csv.csv')"
   ]
  }
 ],
 "metadata": {
  "kernelspec": {
   "display_name": "Python 3",
   "language": "python",
   "name": "python3"
  },
  "language_info": {
   "codemirror_mode": {
    "name": "ipython",
    "version": 3
   },
   "file_extension": ".py",
   "mimetype": "text/x-python",
   "name": "python",
   "nbconvert_exporter": "python",
   "pygments_lexer": "ipython3",
   "version": "3.7.9"
  }
 },
 "nbformat": 4,
 "nbformat_minor": 4
}
