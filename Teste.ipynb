{
 "cells": [
  {
   "cell_type": "code",
   "execution_count": 8,
   "metadata": {},
   "outputs": [],
   "source": [
    "import tensorflow as tf"
   ]
  },
  {
   "cell_type": "code",
   "execution_count": 9,
   "metadata": {},
   "outputs": [],
   "source": [
    "tensor_board = tf.keras.callbacks.TensorBoard('.\\logs\\LeNet-MNIST-1') "
   ]
  },
  {
   "cell_type": "code",
   "execution_count": 2,
   "metadata": {},
   "outputs": [
    {
     "name": "stdout",
     "output_type": "stream",
     "text": [
      "Downloading data from https://storage.googleapis.com/tensorflow/tf-keras-datasets/mnist.npz\n",
      "11493376/11490434 [==============================] - 1s 0us/step\n"
     ]
    }
   ],
   "source": [
    "mnist = tf.keras.datasets.mnist\n",
    "\n",
    "(train_images, train_labels), (test_images, test_labels) = mnist.load_data()"
   ]
  },
  {
   "cell_type": "code",
   "execution_count": 3,
   "metadata": {},
   "outputs": [],
   "source": [
    "# reshape and rescale data for the CNN\n",
    "\n",
    "train_images = train_images.reshape(60000, 28, 28, 1)\n",
    "\n",
    "test_images = test_images.reshape(10000, 28, 28, 1)\n",
    "\n",
    "train_images, test_images = train_images/255, test_images/255"
   ]
  },
  {
   "cell_type": "code",
   "execution_count": 4,
   "metadata": {},
   "outputs": [],
   "source": [
    "model = tf.keras.Sequential([\n",
    "    tf.keras.layers.Conv2D(32, (3,3), activation='relu', input_shape=(28,28,1)),\n",
    "    tf.keras.layers.Conv2D(64, (3,3), activation='relu'),\n",
    "    tf.keras.layers.MaxPooling2D(2,2),\n",
    "    tf.keras.layers.Dropout(0.25),\n",
    "    tf.keras.layers.Flatten(),\n",
    "    tf.keras.layers.Dense(128, activation='relu'),\n",
    "    tf.keras.layers.Dropout(0.5),\n",
    "    tf.keras.layers.Dense(10, activation='softmax')\n",
    "])"
   ]
  },
  {
   "cell_type": "code",
   "execution_count": 5,
   "metadata": {},
   "outputs": [],
   "source": [
    "model.compile(optimizer='adam', loss='sparse_categorical_crossentropy', metrics=['accuracy'])"
   ]
  },
  {
   "cell_type": "code",
   "execution_count": 6,
   "metadata": {},
   "outputs": [],
   "source": [
    "tensor_board = tf.keras.callbacks.TensorBoard('./logs/LeNet-MNIST-1')"
   ]
  },
  {
   "cell_type": "code",
   "execution_count": 10,
   "metadata": {},
   "outputs": [
    {
     "name": "stdout",
     "output_type": "stream",
     "text": [
      "Train on 60000 samples, validate on 10000 samples\n",
      "Epoch 1/15\n",
      "60000/60000 [==============================] - 14s 234us/sample - loss: 0.2277 - accuracy: 0.9297 - val_loss: 0.0488 - val_accuracy: 0.9849\n",
      "Epoch 2/15\n",
      "60000/60000 [==============================] - 10s 166us/sample - loss: 0.0803 - accuracy: 0.9754 - val_loss: 0.0346 - val_accuracy: 0.9879\n",
      "Epoch 3/15\n",
      "60000/60000 [==============================] - 10s 166us/sample - loss: 0.0599 - accuracy: 0.9817 - val_loss: 0.0329 - val_accuracy: 0.9897\n",
      "Epoch 4/15\n",
      "60000/60000 [==============================] - 10s 166us/sample - loss: 0.0481 - accuracy: 0.9852 - val_loss: 0.0354 - val_accuracy: 0.9898\n",
      "Epoch 5/15\n",
      "60000/60000 [==============================] - 10s 166us/sample - loss: 0.0417 - accuracy: 0.9870 - val_loss: 0.0298 - val_accuracy: 0.9908\n",
      "Epoch 6/15\n",
      "60000/60000 [==============================] - 10s 167us/sample - loss: 0.0366 - accuracy: 0.9887 - val_loss: 0.0270 - val_accuracy: 0.9918\n",
      "Epoch 7/15\n",
      "60000/60000 [==============================] - 10s 168us/sample - loss: 0.0332 - accuracy: 0.9894 - val_loss: 0.0258 - val_accuracy: 0.9923\n",
      "Epoch 8/15\n",
      "60000/60000 [==============================] - 10s 167us/sample - loss: 0.0293 - accuracy: 0.9903 - val_loss: 0.0260 - val_accuracy: 0.9920\n",
      "Epoch 9/15\n",
      "60000/60000 [==============================] - 10s 167us/sample - loss: 0.0262 - accuracy: 0.9913 - val_loss: 0.0230 - val_accuracy: 0.9927\n",
      "Epoch 10/15\n",
      "60000/60000 [==============================] - 10s 167us/sample - loss: 0.0227 - accuracy: 0.9923 - val_loss: 0.0270 - val_accuracy: 0.9930\n",
      "Epoch 11/15\n",
      "60000/60000 [==============================] - 10s 167us/sample - loss: 0.0247 - accuracy: 0.9915 - val_loss: 0.0280 - val_accuracy: 0.9927\n",
      "Epoch 12/15\n",
      "60000/60000 [==============================] - 10s 168us/sample - loss: 0.0202 - accuracy: 0.9930 - val_loss: 0.0299 - val_accuracy: 0.9917\n",
      "Epoch 13/15\n",
      "60000/60000 [==============================] - 10s 167us/sample - loss: 0.0204 - accuracy: 0.9935 - val_loss: 0.0265 - val_accuracy: 0.9936\n",
      "Epoch 14/15\n",
      "60000/60000 [==============================] - 10s 167us/sample - loss: 0.0175 - accuracy: 0.9944 - val_loss: 0.0288 - val_accuracy: 0.9934\n",
      "Epoch 15/15\n",
      "60000/60000 [==============================] - 10s 168us/sample - loss: 0.0168 - accuracy: 0.9942 - val_loss: 0.0291 - val_accuracy: 0.9922\n",
      "Training took 154.2650864124298 seconds\n"
     ]
    }
   ],
   "source": [
    "import time\n",
    "\n",
    "start_time=time.time()\n",
    "\n",
    "model.fit(train_images, train_labels, batch_size=128, epochs=15, verbose=1,\n",
    "         validation_data=(test_images, test_labels), callbacks=[tensor_board])\n",
    "\n",
    "print('Training took {} seconds'.format(time.time()-start_time))"
   ]
  },
  {
   "cell_type": "code",
   "execution_count": null,
   "metadata": {},
   "outputs": [],
   "source": []
  }
 ],
 "metadata": {
  "kernelspec": {
   "display_name": "TensorFlow-GPU-2.1",
   "language": "python",
   "name": "tf-gpu"
  },
  "language_info": {
   "codemirror_mode": {
    "name": "ipython",
    "version": 3
   },
   "file_extension": ".py",
   "mimetype": "text/x-python",
   "name": "python",
   "nbconvert_exporter": "python",
   "pygments_lexer": "ipython3",
   "version": "3.7.7"
  }
 },
 "nbformat": 4,
 "nbformat_minor": 4
}
